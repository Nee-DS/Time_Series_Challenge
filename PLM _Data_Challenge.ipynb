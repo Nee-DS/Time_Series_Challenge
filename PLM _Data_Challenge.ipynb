{
 "cells": [
  {
   "cell_type": "markdown",
   "metadata": {},
   "source": [
    "## Data Challenge:Analysis of ALS-FRS user data and prediction of its progress in future\n",
    "\n",
    "- The Data set 1: time series analysis of ALS-FRS is applied for this analysis.\n",
    "- The files include \"user_ALSFRS_score.csv\" and \"user_onset_date.csv\""
   ]
  },
  {
   "cell_type": "markdown",
   "metadata": {},
   "source": [
    "### Packages and Libraries "
   ]
  },
  {
   "cell_type": "code",
   "execution_count": 1,
   "metadata": {
    "scrolled": true
   },
   "outputs": [],
   "source": [
    "\n",
    "import os \n",
    "import numpy as np \n",
    "import pandas as pd\n",
    "from matplotlib import pyplot as plt\n",
    "import seaborn as sns\n",
    "\n",
    "%matplotlib inline\n",
    "# To change scientific numbers to float\n",
    "np.set_printoptions(formatter={'float_kind':'{:f}'.format})\n",
    "\n",
    "# Increases the size of sns plots\n",
    "sns.set(rc={'figure.figsize':(8,6)})\n",
    "\n",
    "#ARIMA\n",
    "from statsmodels.tsa.arima_model import ARIMA\n",
    "from statsmodels.tsa.api import ExponentialSmoothing, SimpleExpSmoothing, Holt\n",
    "\n",
    "from sklearn.metrics import mean_squared_error\n",
    "from sklearn.linear_model import LinearRegression\n",
    "from sklearn import linear_model\n",
    "\n",
    "import pmdarima as pm\n",
    "from pmdarima.model_selection import train_test_split\n",
    "\n",
    "#libraries for date time conversion \n",
    "from pandas import to_datetime\n",
    "\n",
    "import itertools\n",
    "import warnings\n",
    "\n",
    "import datetime\n",
    "from datetime import datetime\n",
    "warnings.filterwarnings('ignore') # to supress the warnings message"
   ]
  },
  {
   "cell_type": "markdown",
   "metadata": {},
   "source": [
    "### Feature exploration and visualization to understand the data set "
   ]
  },
  {
   "cell_type": "code",
   "execution_count": 2,
   "metadata": {},
   "outputs": [
    {
     "data": {
      "text/html": [
       "<div>\n",
       "<style scoped>\n",
       "    .dataframe tbody tr th:only-of-type {\n",
       "        vertical-align: middle;\n",
       "    }\n",
       "\n",
       "    .dataframe tbody tr th {\n",
       "        vertical-align: top;\n",
       "    }\n",
       "\n",
       "    .dataframe thead th {\n",
       "        text-align: right;\n",
       "    }\n",
       "</style>\n",
       "<table border=\"1\" class=\"dataframe\">\n",
       "  <thead>\n",
       "    <tr style=\"text-align: right;\">\n",
       "      <th></th>\n",
       "      <th>user_id</th>\n",
       "      <th>report_date</th>\n",
       "      <th>score</th>\n",
       "    </tr>\n",
       "  </thead>\n",
       "  <tbody>\n",
       "    <tr>\n",
       "      <th>0</th>\n",
       "      <td>2520</td>\n",
       "      <td>2005-08-05</td>\n",
       "      <td>36</td>\n",
       "    </tr>\n",
       "    <tr>\n",
       "      <th>1</th>\n",
       "      <td>2520</td>\n",
       "      <td>2002-01-04</td>\n",
       "      <td>44</td>\n",
       "    </tr>\n",
       "    <tr>\n",
       "      <th>2</th>\n",
       "      <td>2520</td>\n",
       "      <td>2006-12-08</td>\n",
       "      <td>28</td>\n",
       "    </tr>\n",
       "    <tr>\n",
       "      <th>3</th>\n",
       "      <td>2520</td>\n",
       "      <td>2006-08-04</td>\n",
       "      <td>29</td>\n",
       "    </tr>\n",
       "    <tr>\n",
       "      <th>4</th>\n",
       "      <td>2520</td>\n",
       "      <td>2007-04-13</td>\n",
       "      <td>29</td>\n",
       "    </tr>\n",
       "  </tbody>\n",
       "</table>\n",
       "</div>"
      ],
      "text/plain": [
       "   user_id report_date  score\n",
       "0     2520  2005-08-05     36\n",
       "1     2520  2002-01-04     44\n",
       "2     2520  2006-12-08     28\n",
       "3     2520  2006-08-04     29\n",
       "4     2520  2007-04-13     29"
      ]
     },
     "execution_count": 2,
     "metadata": {},
     "output_type": "execute_result"
    }
   ],
   "source": [
    "df1=pd.read_csv('user_ALSFRS_score.csv', index_col=0)\n",
    "df1.head()"
   ]
  },
  {
   "cell_type": "code",
   "execution_count": 3,
   "metadata": {},
   "outputs": [
    {
     "data": {
      "text/plain": [
       "(4409, 3)"
      ]
     },
     "execution_count": 3,
     "metadata": {},
     "output_type": "execute_result"
    }
   ],
   "source": [
    "df1.shape"
   ]
  },
  {
   "cell_type": "code",
   "execution_count": 4,
   "metadata": {
    "scrolled": true
   },
   "outputs": [
    {
     "data": {
      "text/plain": [
       "user_id        0\n",
       "report_date    0\n",
       "score          0\n",
       "dtype: int64"
      ]
     },
     "execution_count": 4,
     "metadata": {},
     "output_type": "execute_result"
    }
   ],
   "source": [
    "df1.isnull().sum()"
   ]
  },
  {
   "cell_type": "code",
   "execution_count": 5,
   "metadata": {},
   "outputs": [
    {
     "name": "stdout",
     "output_type": "stream",
     "text": [
      "The number of values for feature user_id :200\n",
      "The number of values for feature report_date :2893\n",
      "The number of values for feature score :49\n"
     ]
    }
   ],
   "source": [
    "for column in df1:\n",
    "    unique_vals=np.unique(df1[column])\n",
    "    nr_values=len(unique_vals)\n",
    "    if nr_values<10:\n",
    "        print('The number of values for feature {} :{} -- {}'.format(column, nr_values,unique_vals))\n",
    "    else:\n",
    "        print('The number of values for feature {} :{}'.format(column, nr_values))"
   ]
  },
  {
   "cell_type": "code",
   "execution_count": 6,
   "metadata": {},
   "outputs": [
    {
     "data": {
      "text/plain": [
       "array([2520,  147,  217, 1361,  436, 6900, 6728, 5085, 1200, 4561, 6492,\n",
       "       5081, 4322,  788, 5636,  782, 6654, 3327,  184, 5526,   43, 2917,\n",
       "       7344, 5009, 4956, 6161, 4281, 2703, 6436, 3679, 2128,  985, 5450,\n",
       "       3518, 6562,  525, 6813, 1816,  193, 5379, 1057, 5489, 1097, 4236,\n",
       "       1702, 5765, 4941,  890,  733, 1189, 7263, 1821, 7087, 5212, 4417,\n",
       "        526, 3624, 4952,  350, 5283, 3893, 1914, 3725, 5814, 2281, 3761,\n",
       "       1229,  417, 2416, 1865, 3880, 3873, 4707, 3887, 6923, 3719, 4053,\n",
       "       5594, 6452, 6272, 6643, 6705, 4156, 2859, 3789, 7318, 3055, 4161,\n",
       "        800, 4742,  811, 3805, 3439, 6788, 7188, 3948, 2272, 1992, 6628,\n",
       "       1171,  521,  588, 3806, 1960, 1206,  468, 5052, 4887, 3995,  997,\n",
       "       5993, 5173,  724,  304, 5366,  792,  288, 6797, 3507, 5487, 3895,\n",
       "       5236, 5828, 1991, 3858, 5692, 1425,  730,   75, 7233, 5820, 5557,\n",
       "       2050,  108, 1256, 1010, 5011, 2019, 5807, 2856, 2133, 4427, 3550,\n",
       "       4132, 2077, 7423,  509, 6276,  205,  544, 2909, 2768, 6176, 3777,\n",
       "       6180, 4237, 3028, 7150, 5706, 5245, 6061, 1721, 1891, 5272, 7483,\n",
       "       4928, 2811, 5141,  163,  180, 2029, 3539, 2759, 1493, 1106, 6248,\n",
       "       6320, 3956, 4695, 1757, 1841, 5589, 2894, 4345, 6373, 2579, 7326,\n",
       "       6701,  230, 5966, 4909, 4740, 2070, 2514, 6775, 2895, 6996, 7108,\n",
       "       1676, 1700], dtype=int64)"
      ]
     },
     "execution_count": 6,
     "metadata": {},
     "output_type": "execute_result"
    }
   ],
   "source": [
    "df1.user_id.unique()"
   ]
  },
  {
   "cell_type": "code",
   "execution_count": 7,
   "metadata": {
    "scrolled": false
   },
   "outputs": [
    {
     "data": {
      "text/plain": [
       "user_id         int64\n",
       "report_date    object\n",
       "score           int64\n",
       "dtype: object"
      ]
     },
     "execution_count": 7,
     "metadata": {},
     "output_type": "execute_result"
    }
   ],
   "source": [
    "df1.dtypes"
   ]
  },
  {
   "cell_type": "markdown",
   "metadata": {},
   "source": [
    "### @Comments \n",
    "- The first csv file has no null values <br>\n",
    "- The 'record_date' in object dtype and 'score' is in int64 for an individual user_id<br>\n",
    "- No cleaning or removing missing value method is applied"
   ]
  },
  {
   "cell_type": "markdown",
   "metadata": {},
   "source": [
    "### One set of user_id is randomly selected and is analysed to get a feel of the data structure "
   ]
  },
  {
   "cell_type": "code",
   "execution_count": 8,
   "metadata": {
    "scrolled": true
   },
   "outputs": [
    {
     "data": {
      "text/html": [
       "<div>\n",
       "<style scoped>\n",
       "    .dataframe tbody tr th:only-of-type {\n",
       "        vertical-align: middle;\n",
       "    }\n",
       "\n",
       "    .dataframe tbody tr th {\n",
       "        vertical-align: top;\n",
       "    }\n",
       "\n",
       "    .dataframe thead th {\n",
       "        text-align: right;\n",
       "    }\n",
       "</style>\n",
       "<table border=\"1\" class=\"dataframe\">\n",
       "  <thead>\n",
       "    <tr style=\"text-align: right;\">\n",
       "      <th></th>\n",
       "      <th>user_id</th>\n",
       "      <th>report_date</th>\n",
       "      <th>score</th>\n",
       "    </tr>\n",
       "  </thead>\n",
       "  <tbody>\n",
       "    <tr>\n",
       "      <th>0</th>\n",
       "      <td>2520</td>\n",
       "      <td>2005-08-05</td>\n",
       "      <td>36</td>\n",
       "    </tr>\n",
       "    <tr>\n",
       "      <th>1</th>\n",
       "      <td>2520</td>\n",
       "      <td>2002-01-04</td>\n",
       "      <td>44</td>\n",
       "    </tr>\n",
       "    <tr>\n",
       "      <th>2</th>\n",
       "      <td>2520</td>\n",
       "      <td>2006-12-08</td>\n",
       "      <td>28</td>\n",
       "    </tr>\n",
       "    <tr>\n",
       "      <th>3</th>\n",
       "      <td>2520</td>\n",
       "      <td>2006-08-04</td>\n",
       "      <td>29</td>\n",
       "    </tr>\n",
       "    <tr>\n",
       "      <th>4</th>\n",
       "      <td>2520</td>\n",
       "      <td>2007-04-13</td>\n",
       "      <td>29</td>\n",
       "    </tr>\n",
       "  </tbody>\n",
       "</table>\n",
       "</div>"
      ],
      "text/plain": [
       "   user_id report_date  score\n",
       "0     2520  2005-08-05     36\n",
       "1     2520  2002-01-04     44\n",
       "2     2520  2006-12-08     28\n",
       "3     2520  2006-08-04     29\n",
       "4     2520  2007-04-13     29"
      ]
     },
     "execution_count": 8,
     "metadata": {},
     "output_type": "execute_result"
    }
   ],
   "source": [
    "df1_2520=df1[df1.user_id==2520]\n",
    "df1_2520.head()"
   ]
  },
  {
   "cell_type": "code",
   "execution_count": 9,
   "metadata": {
    "scrolled": true
   },
   "outputs": [
    {
     "data": {
      "text/plain": [
       "'2017-08-02'"
      ]
     },
     "execution_count": 9,
     "metadata": {},
     "output_type": "execute_result"
    }
   ],
   "source": [
    "df1_2520.report_date.max()"
   ]
  },
  {
   "cell_type": "code",
   "execution_count": 10,
   "metadata": {
    "scrolled": false
   },
   "outputs": [
    {
     "data": {
      "text/plain": [
       "'1997-03-01'"
      ]
     },
     "execution_count": 10,
     "metadata": {},
     "output_type": "execute_result"
    }
   ],
   "source": [
    "df1_2520.report_date.min()"
   ]
  },
  {
   "cell_type": "markdown",
   "metadata": {},
   "source": [
    "### Loading the other csv file 'user_onset_date.csv\" "
   ]
  },
  {
   "cell_type": "code",
   "execution_count": 11,
   "metadata": {},
   "outputs": [],
   "source": [
    "df2=pd.read_csv('user_onset_date.csv',index_col=0)"
   ]
  },
  {
   "cell_type": "code",
   "execution_count": 12,
   "metadata": {
    "scrolled": true
   },
   "outputs": [
    {
     "data": {
      "text/html": [
       "<div>\n",
       "<style scoped>\n",
       "    .dataframe tbody tr th:only-of-type {\n",
       "        vertical-align: middle;\n",
       "    }\n",
       "\n",
       "    .dataframe tbody tr th {\n",
       "        vertical-align: top;\n",
       "    }\n",
       "\n",
       "    .dataframe thead th {\n",
       "        text-align: right;\n",
       "    }\n",
       "</style>\n",
       "<table border=\"1\" class=\"dataframe\">\n",
       "  <thead>\n",
       "    <tr style=\"text-align: right;\">\n",
       "      <th></th>\n",
       "      <th>user_id</th>\n",
       "      <th>first_definitive_diagnosis_date</th>\n",
       "    </tr>\n",
       "  </thead>\n",
       "  <tbody>\n",
       "    <tr>\n",
       "      <th>0</th>\n",
       "      <td>4941</td>\n",
       "      <td>2008-01-01</td>\n",
       "    </tr>\n",
       "    <tr>\n",
       "      <th>1</th>\n",
       "      <td>5814</td>\n",
       "      <td>2004-06-01</td>\n",
       "    </tr>\n",
       "    <tr>\n",
       "      <th>2</th>\n",
       "      <td>6161</td>\n",
       "      <td>2007-03-01</td>\n",
       "    </tr>\n",
       "    <tr>\n",
       "      <th>3</th>\n",
       "      <td>1702</td>\n",
       "      <td>2006-02-01</td>\n",
       "    </tr>\n",
       "    <tr>\n",
       "      <th>4</th>\n",
       "      <td>43</td>\n",
       "      <td>1999-08-01</td>\n",
       "    </tr>\n",
       "  </tbody>\n",
       "</table>\n",
       "</div>"
      ],
      "text/plain": [
       "   user_id first_definitive_diagnosis_date\n",
       "0     4941                      2008-01-01\n",
       "1     5814                      2004-06-01\n",
       "2     6161                      2007-03-01\n",
       "3     1702                      2006-02-01\n",
       "4       43                      1999-08-01"
      ]
     },
     "execution_count": 12,
     "metadata": {},
     "output_type": "execute_result"
    }
   ],
   "source": [
    "df2.head()"
   ]
  },
  {
   "cell_type": "code",
   "execution_count": 13,
   "metadata": {},
   "outputs": [
    {
     "data": {
      "text/plain": [
       "(229, 2)"
      ]
     },
     "execution_count": 13,
     "metadata": {},
     "output_type": "execute_result"
    }
   ],
   "source": [
    "df2.shape"
   ]
  },
  {
   "cell_type": "code",
   "execution_count": 14,
   "metadata": {
    "scrolled": false
   },
   "outputs": [
    {
     "data": {
      "text/plain": [
       "array([4941, 5814, 6161, 1702,   43, 6643, 3789, 3805,  193,  800, 6562,\n",
       "        184, 7188, 5283,  526, 3893, 2703, 4161, 5450, 5085, 4281,  788,\n",
       "       1097,  147,  733, 5009,  811, 4952, 2917, 6923, 4236, 3518, 5765,\n",
       "       5526, 1914,  350, 1057, 7344, 3439,  525, 2281, 3761, 5379, 3873,\n",
       "       7087, 2128, 5489, 6436, 2520, 4417,  985,  890, 3880, 5594, 7263,\n",
       "       1865, 2272, 1200, 5081, 3948, 1229, 4956,  436, 6705, 6452, 6492,\n",
       "       3725,  782, 1821,  217, 6900, 3887, 3327, 6272, 1189, 2859, 3055,\n",
       "       1361, 3719, 4322, 1816, 6813, 5636, 4707, 1992, 6628, 1171,  588,\n",
       "        521, 3806, 1960, 1206,  468, 4887, 3995,  997, 5993, 5173,  724,\n",
       "        304,  792,  288, 6797, 3507, 5366, 5236, 5828, 1991, 3858, 5692,\n",
       "       1425,  730,   75, 7233, 5557, 2050,  108, 1256, 1010, 5011, 2019,\n",
       "       5807, 2856, 2133, 4427, 4132, 2077, 7423, 3550, 6276,  205,  544,\n",
       "       5820, 2909, 2768, 6176, 3777, 4237, 3028, 7150, 5706, 6061, 1721,\n",
       "       5245, 6180, 1891, 5272, 2811, 5141,  163, 2029, 3539, 2759, 1493,\n",
       "       1106, 6248, 3956, 6320, 4695, 1757, 1841, 5589, 2894, 4345, 6373,\n",
       "       2579, 7326, 6701, 4928,  230, 4909, 6775, 2514, 2895, 6996, 7108,\n",
       "       4740, 1700, 2416,  450, 1803, 4862, 3810, 5738, 3403, 1422, 6142,\n",
       "       5185, 3131, 4060, 3388, 4312, 4976, 1351, 5330,  861, 1723, 1508,\n",
       "       2405, 7324, 4006, 1543,  914, 5778, 5388, 2167, 5160, 1014, 2399,\n",
       "        229, 7372, 2978, 6648, 4813, 1408, 4401,  299, 7391, 6982, 5833,\n",
       "       5885, 7238, 1820, 3385,  825, 4031, 1596, 1752, 1755], dtype=int64)"
      ]
     },
     "execution_count": 14,
     "metadata": {},
     "output_type": "execute_result"
    }
   ],
   "source": [
    "df2.user_id.unique()"
   ]
  },
  {
   "cell_type": "markdown",
   "metadata": {},
   "source": [
    "### Getting a correlation between the two csv file.  "
   ]
  },
  {
   "cell_type": "code",
   "execution_count": 15,
   "metadata": {
    "scrolled": false
   },
   "outputs": [
    {
     "data": {
      "text/plain": [
       "48    2000-12-18\n",
       "Name: first_definitive_diagnosis_date, dtype: object"
      ]
     },
     "execution_count": 15,
     "metadata": {},
     "output_type": "execute_result"
    }
   ],
   "source": [
    "df2.loc[df2['user_id'] == 2520,'first_definitive_diagnosis_date']"
   ]
  },
  {
   "cell_type": "code",
   "execution_count": 16,
   "metadata": {},
   "outputs": [],
   "source": [
    "df1_2520['report_date'] = pd.to_datetime(df1_2520['report_date'])\n",
    "df1_2520['report_date'] =df1_2520['report_date'].dt.year"
   ]
  },
  {
   "cell_type": "code",
   "execution_count": 17,
   "metadata": {
    "scrolled": false
   },
   "outputs": [
    {
     "data": {
      "text/plain": [
       "<function matplotlib.pyplot.show(close=None, block=None)>"
      ]
     },
     "execution_count": 17,
     "metadata": {},
     "output_type": "execute_result"
    },
    {
     "data": {
      "image/png": "[encoded data removed]",
      "text/plain": [
       "<Figure size 720x576 with 1 Axes>"
      ]
     },
     "metadata": {},
     "output_type": "display_data"
    }
   ],
   "source": [
    "#fig,ax = plt.subplots()\n",
    "plt.figure(figsize=(10, 8))\n",
    "plt.title('User 2520', fontsize=12,fontweight='bold')\n",
    "\n",
    "plt.scatter(data=df1_2520,x='report_date',y='score')\n",
    "plt.axvline(2000, color='red', linestyle='dashed', linewidth=2,label='first_definitive_diagnosis_date')\n",
    "plt.xlim(1997,2020)\n",
    "plt.ylim(0,50)\n",
    "plt.xlabel(\"Report date\")\n",
    "plt.ylabel('ALSFRS score')\n",
    "plt.legend()\n",
    "plt.show\n",
    "\n"
   ]
  },
  {
   "cell_type": "code",
   "execution_count": 18,
   "metadata": {
    "scrolled": true
   },
   "outputs": [
    {
     "data": {
      "text/plain": [
       "(62, 3)"
      ]
     },
     "execution_count": 18,
     "metadata": {},
     "output_type": "execute_result"
    }
   ],
   "source": [
    "df1_2520.shape"
   ]
  },
  {
   "cell_type": "code",
   "execution_count": 19,
   "metadata": {
    "scrolled": false
   },
   "outputs": [
    {
     "data": {
      "text/plain": [
       "user_id        int64\n",
       "report_date    int64\n",
       "score          int64\n",
       "dtype: object"
      ]
     },
     "execution_count": 19,
     "metadata": {},
     "output_type": "execute_result"
    }
   ],
   "source": [
    "df1_2520.dtypes"
   ]
  },
  {
   "cell_type": "markdown",
   "metadata": {},
   "source": [
    "### @Comments \n",
    "- The two csv file have different number of user_id. \n",
    "- It will be good to compare and know which of the user_id are missing in the two csv file\n",
    "\n",
    "**Questions which oriented to work on building the Machine Learning tool**\n",
    "    \n",
    "- How important it is to know the \"first definitive diagnosis data of user\"? \n",
    "- What are the information available for the data points visible before the \"first definitive diagnosis data of user\"?\n",
    "- Are they not definitive? then how were they recorded?"
   ]
  },
  {
   "cell_type": "markdown",
   "metadata": {},
   "source": [
    "### Analyse other user_ids to get more insight of the first csv file"
   ]
  },
  {
   "cell_type": "code",
   "execution_count": 20,
   "metadata": {
    "scrolled": false
   },
   "outputs": [
    {
     "data": {
      "text/plain": [
       "29"
      ]
     },
     "execution_count": 20,
     "metadata": {},
     "output_type": "execute_result"
    }
   ],
   "source": [
    "df1_5081=df1[df1.user_id==5081]\n",
    "len(df1_5081)"
   ]
  },
  {
   "cell_type": "code",
   "execution_count": 21,
   "metadata": {
    "scrolled": true
   },
   "outputs": [
    {
     "data": {
      "text/plain": [
       "'2008-12-29'"
      ]
     },
     "execution_count": 21,
     "metadata": {},
     "output_type": "execute_result"
    }
   ],
   "source": [
    "df1_5081.report_date.max()"
   ]
  },
  {
   "cell_type": "code",
   "execution_count": 22,
   "metadata": {
    "scrolled": true
   },
   "outputs": [
    {
     "data": {
      "text/plain": [
       "'2004-07-01'"
      ]
     },
     "execution_count": 22,
     "metadata": {},
     "output_type": "execute_result"
    }
   ],
   "source": [
    "df1_5081.report_date.min()"
   ]
  },
  {
   "cell_type": "code",
   "execution_count": 23,
   "metadata": {
    "scrolled": true
   },
   "outputs": [
    {
     "data": {
      "text/plain": [
       "user_id                             int64\n",
       "first_definitive_diagnosis_date    object\n",
       "dtype: object"
      ]
     },
     "execution_count": 23,
     "metadata": {},
     "output_type": "execute_result"
    }
   ],
   "source": [
    "df2.dtypes"
   ]
  },
  {
   "cell_type": "code",
   "execution_count": 24,
   "metadata": {
    "scrolled": false
   },
   "outputs": [
    {
     "data": {
      "text/plain": [
       "58    2007-11-01\n",
       "Name: first_definitive_diagnosis_date, dtype: object"
      ]
     },
     "execution_count": 24,
     "metadata": {},
     "output_type": "execute_result"
    }
   ],
   "source": [
    "df2.loc[df2['user_id'] == 5081,'first_definitive_diagnosis_date']"
   ]
  },
  {
   "cell_type": "code",
   "execution_count": 25,
   "metadata": {},
   "outputs": [],
   "source": [
    "df1_5081['report_date'] = pd.to_datetime(df1_5081['report_date'])\n",
    "df1_5081['report_date'] =df1_5081['report_date'].dt.year"
   ]
  },
  {
   "cell_type": "code",
   "execution_count": 26,
   "metadata": {
    "scrolled": false
   },
   "outputs": [
    {
     "data": {
      "text/plain": [
       "<function matplotlib.pyplot.show(close=None, block=None)>"
      ]
     },
     "execution_count": 26,
     "metadata": {},
     "output_type": "execute_result"
    },
    {
     "data": {
      "image/png": "[encoded data removed]",
      "text/plain": [
       "<Figure size 720x576 with 1 Axes>"
      ]
     },
     "metadata": {},
     "output_type": "display_data"
    }
   ],
   "source": [
    "#fig,ax = plt.subplots()\n",
    "plt.figure(figsize=(10, 8))\n",
    "plt.title('User 2520', fontsize=12,fontweight='bold')\n",
    "\n",
    "plt.scatter(data=df1_5081,x='report_date',y='score')\n",
    "plt.axvline(2007, color='red', linestyle='dashed', linewidth=2,label='first_definitive_diagnosis_date')\n",
    "plt.xlim(2000,2010)\n",
    "plt.ylim(0,50)\n",
    "plt.xlabel(\"Report date\")\n",
    "plt.ylabel('ALSFRS score')\n",
    "plt.legend()\n",
    "plt.show\n",
    "\n"
   ]
  },
  {
   "cell_type": "code",
   "execution_count": 27,
   "metadata": {},
   "outputs": [],
   "source": [
    "df1_count=df1.groupby(['user_id']).count()"
   ]
  },
  {
   "cell_type": "code",
   "execution_count": 28,
   "metadata": {
    "scrolled": true
   },
   "outputs": [
    {
     "data": {
      "text/html": [
       "<div>\n",
       "<style scoped>\n",
       "    .dataframe tbody tr th:only-of-type {\n",
       "        vertical-align: middle;\n",
       "    }\n",
       "\n",
       "    .dataframe tbody tr th {\n",
       "        vertical-align: top;\n",
       "    }\n",
       "\n",
       "    .dataframe thead th {\n",
       "        text-align: right;\n",
       "    }\n",
       "</style>\n",
       "<table border=\"1\" class=\"dataframe\">\n",
       "  <thead>\n",
       "    <tr style=\"text-align: right;\">\n",
       "      <th></th>\n",
       "      <th>report_date</th>\n",
       "      <th>score</th>\n",
       "    </tr>\n",
       "    <tr>\n",
       "      <th>user_id</th>\n",
       "      <th></th>\n",
       "      <th></th>\n",
       "    </tr>\n",
       "  </thead>\n",
       "  <tbody>\n",
       "    <tr>\n",
       "      <th>43</th>\n",
       "      <td>16</td>\n",
       "      <td>16</td>\n",
       "    </tr>\n",
       "    <tr>\n",
       "      <th>75</th>\n",
       "      <td>19</td>\n",
       "      <td>19</td>\n",
       "    </tr>\n",
       "    <tr>\n",
       "      <th>108</th>\n",
       "      <td>12</td>\n",
       "      <td>12</td>\n",
       "    </tr>\n",
       "    <tr>\n",
       "      <th>147</th>\n",
       "      <td>14</td>\n",
       "      <td>14</td>\n",
       "    </tr>\n",
       "    <tr>\n",
       "      <th>163</th>\n",
       "      <td>13</td>\n",
       "      <td>13</td>\n",
       "    </tr>\n",
       "  </tbody>\n",
       "</table>\n",
       "</div>"
      ],
      "text/plain": [
       "         report_date  score\n",
       "user_id                    \n",
       "43                16     16\n",
       "75                19     19\n",
       "108               12     12\n",
       "147               14     14\n",
       "163               13     13"
      ]
     },
     "execution_count": 28,
     "metadata": {},
     "output_type": "execute_result"
    }
   ],
   "source": [
    "df1_count.head()"
   ]
  },
  {
   "cell_type": "code",
   "execution_count": 29,
   "metadata": {},
   "outputs": [
    {
     "data": {
      "text/plain": [
       "78"
      ]
     },
     "execution_count": 29,
     "metadata": {},
     "output_type": "execute_result"
    }
   ],
   "source": [
    "df1_count['score'].max()"
   ]
  },
  {
   "cell_type": "code",
   "execution_count": 30,
   "metadata": {
    "scrolled": false
   },
   "outputs": [
    {
     "data": {
      "text/plain": [
       "11"
      ]
     },
     "execution_count": 30,
     "metadata": {},
     "output_type": "execute_result"
    }
   ],
   "source": [
    "df1_count['score'].min()"
   ]
  },
  {
   "cell_type": "markdown",
   "metadata": {},
   "source": [
    "### @Comments \n",
    "- The data points for each user_id are not the same\n",
    "- The start and the end date for data collection for each user are also not consistant\n",
    "- To have an uninformity for each user more informations are required\n",
    "- Considered working on building a time series analysis for a single user having a considerable amount of data"
   ]
  },
  {
   "cell_type": "markdown",
   "metadata": {},
   "source": [
    "### Machine Learning tool to predict the ALS-FRS progressing in the future for a singe user \n",
    "- The aim to build an appropriate model for data poitns for a single user and then we can impliment for all users\n",
    "- Since each user is different, more insights on the user e.g age, sex etc. will be helpful for a universal model implication\n",
    "- Researched on an appropriate time series model e.g (https://www.frontiersin.org/articles/10.3389/fdata.2020.00004/full)\n",
    "- Autoregressive integrated moving average (ARIMA), a multilayer perceptron (MLP) model, a long short-term memory (LSTM) model were suggested\n",
    "- ARIMA model is randomly selected \n",
    "- The proper selection of model needs to be studied"
   ]
  },
  {
   "cell_type": "code",
   "execution_count": 31,
   "metadata": {},
   "outputs": [],
   "source": [
    "#Getting back to dataframe created earlier in the code for user_id 2520 to implement the ARIMA model"
   ]
  },
  {
   "cell_type": "code",
   "execution_count": 32,
   "metadata": {},
   "outputs": [],
   "source": [
    "# Changing the time to date -  Time Series Models require date structure\n",
    "df1_2520['report_date'] = df1_2520['report_date'].astype(str) \n",
    "df1_2520['report_date'] = pd.to_datetime(df1['report_date'])"
   ]
  },
  {
   "cell_type": "code",
   "execution_count": 33,
   "metadata": {},
   "outputs": [
    {
     "name": "stdout",
     "output_type": "stream",
     "text": [
      "X_train Shape (46, 3)\n",
      "X_valid Shape (15, 3)\n"
     ]
    }
   ],
   "source": [
    "# Splittitng the data to train and valid set with 75%:25% ratio respectively\n",
    "# The data from the first definitive diagnosis is assumed to be be reliable\n",
    "# The data is splitted to train and  valid starting from the first definitive diagnosis for user_id 2520 i.e 2000\n",
    "\n",
    "X_train = df1_2520.loc[(df1['report_date'] > '2000') & (df1_2520['report_date'] < '2014')]\n",
    "X_valid = df1_2520.loc[df1_2520['report_date'] >= '2013']\n",
    "\n",
    "print('X_train Shape', X_train.shape)\n",
    "print('X_valid Shape', X_valid.shape)"
   ]
  },
  {
   "cell_type": "markdown",
   "metadata": {},
   "source": [
    "### Running Arima (Autoregressive Integrated Moving Average) - for one User with user_id 2520\n",
    "ARIMA:\n",
    "\n",
    "Uses a number of lagged observations of time series to forecast observations\n",
    "Inputs / Parameters:\n",
    "\n",
    "p: the number of lag observations in the model; also known as the lag order (AR) \n",
    "d: the number of times that the raw observations are differenced; also known as the degree of differencing (I)\n",
    "q: the size of the moving average window; also known as the order of the moving average (MA) "
   ]
  },
  {
   "cell_type": "code",
   "execution_count": 34,
   "metadata": {},
   "outputs": [],
   "source": [
    "# filtering the train data\n",
    "user_2520_t = X_train[X_train['user_id'] == 2520]\n",
    "user_2520_train = user_2520_t[['report_date', 'score']]\n",
    "\n",
    "#filtering the valid data\n",
    "user_2520_v = X_valid[X_valid['user_id'] == 2520]\n",
    "user_2520_valid= user_2520_v[['report_date', 'score']]"
   ]
  },
  {
   "cell_type": "code",
   "execution_count": 35,
   "metadata": {},
   "outputs": [
    {
     "data": {
      "text/plain": [
       "DatetimeIndex([          '2013-04-30 00:00:00',\n",
       "               '2013-08-18 22:17:08.571428572',\n",
       "               '2013-12-07 20:34:17.142857144',\n",
       "               '2014-03-28 18:51:25.714285716',\n",
       "               '2014-07-17 17:08:34.285714288',\n",
       "               '2014-11-05 15:25:42.857142864',\n",
       "               '2015-02-24 13:42:51.428571432',\n",
       "                         '2015-06-15 12:00:00',\n",
       "               '2015-10-04 10:17:08.571428576',\n",
       "               '2016-01-23 08:34:17.142857152',\n",
       "               '2016-05-13 06:51:25.714285728',\n",
       "               '2016-09-01 05:08:34.285714288',\n",
       "               '2016-12-21 03:25:42.857142864',\n",
       "               '2017-04-11 01:42:51.428571440',\n",
       "                         '2017-07-31 00:00:00'],\n",
       "              dtype='datetime64[ns]', freq=None)"
      ]
     },
     "execution_count": 35,
     "metadata": {},
     "output_type": "execute_result"
    }
   ],
   "source": [
    "# set the date into index\n",
    "user_2520_train.set_index('report_date', inplace=True)\n",
    "user_2520_valid.set_index('report_date', inplace=True)\n",
    "\n",
    "# Setting the Index for 15 dates starting from the end of the training date to end of the data points\n",
    "\n",
    "index_ = pd.date_range(start= '2013-04-30', end='2017-07-31', periods=15) #str or DateOffset,year start frequency\n",
    "\n",
    "index_"
   ]
  },
  {
   "cell_type": "code",
   "execution_count": 36,
   "metadata": {},
   "outputs": [],
   "source": [
    "# Running ARIMA with random numbers\n",
    "model_arima = ARIMA(user_2520_train, order=(4,2,1)) # start 2-0-0 and move to the best\n",
    "model_arima_fit = model_arima.fit(disp=-1)\n",
    "\n",
    "# Saving ARIMA predictions\n",
    "fcast1 = model_arima_fit.forecast(15)[0]\n",
    "\n",
    "# Passing the same index as the others\n",
    "fcast1 = pd.Series(fcast1, index=index_)\n",
    "fcast1 = fcast1.rename(\"Arima\") \n"
   ]
  },
  {
   "cell_type": "code",
   "execution_count": 37,
   "metadata": {},
   "outputs": [
    {
     "data": {
      "text/plain": [
       "<AxesSubplot:title={'center':'User-1'}, xlabel='report_date', ylabel='score'>"
      ]
     },
     "execution_count": 37,
     "metadata": {},
     "output_type": "execute_result"
    },
    {
     "data": {
      "image/png": "[encoded data removed]",
      "text/plain": [
       "<Figure size 1080x360 with 1 Axes>"
      ]
     },
     "metadata": {},
     "output_type": "display_data"
    }
   ],
   "source": [
    "# Ploting the predictions\n",
    "fig, ax = plt.subplots(figsize=(15,5))\n",
    "chart = sns.lineplot(x='report_date', y='score', data = user_2520_t)\n",
    "chart.set_title('User-1')\n",
    "fcast1.plot(ax=ax, color='red', marker=\"o\", legend=True)\n",
    "user_2520_valid.plot(ax=ax, color='blue', marker=\"o\", legend=True)"
   ]
  },
  {
   "cell_type": "code",
   "execution_count": 38,
   "metadata": {},
   "outputs": [
    {
     "name": "stdout",
     "output_type": "stream",
     "text": [
      "The MSE of ARIMA is: 1.8452504052951748\n"
     ]
    }
   ],
   "source": [
    "# Printing the AI\n",
    "print('The MSE of ARIMA is:', mean_squared_error(user_2520_v['score'].values, fcast1.values, squared=False))"
   ]
  },
  {
   "cell_type": "markdown",
   "metadata": {},
   "source": [
    "### @Comments\n",
    "- The p,d,q are the important parameter for ARIMA model (https://otexts.com/fpp3/non-seasonal-arima.html)\n",
    "- Here two options are tried to get the values \n",
    "        Option1: Manual and Option \n",
    "        Option2: Autocorrelation method"
   ]
  },
  {
   "cell_type": "code",
   "execution_count": 39,
   "metadata": {},
   "outputs": [
    {
     "name": "stdout",
     "output_type": "stream",
     "text": [
      "(0, 0, 0) 303.9954161271369\n",
      "(0, 0, 1) 285.6782181638871\n",
      "(0, 0, 2) 286.0645527615111\n",
      "(0, 0, 3) 287.0222408915581\n",
      "(0, 0, 4) 286.46765591134897\n",
      "(0, 1, 0) 283.30857853351444\n",
      "(0, 1, 1) 280.37848268115283\n",
      "(0, 1, 2) 277.8820350028082\n",
      "(0, 1, 3) 279.62100758026924\n",
      "(0, 1, 4) 281.60470592228427\n",
      "(0, 2, 0) 315.29981774646683\n",
      "(0, 2, 1) 283.884255856986\n",
      "(0, 2, 2) 282.2177249718709\n",
      "(0, 2, 3) 280.05465292436105\n",
      "(0, 2, 4) 281.6832126187416\n",
      "(1, 0, 0) 282.2037335626138\n",
      "(1, 0, 1) 284.18498422838036\n",
      "(1, 0, 4) 286.39754304566736\n",
      "(1, 1, 0) 283.58193331349514\n",
      "(1, 1, 1) 287.30857311086163\n",
      "(1, 1, 2) 279.6231883846938\n",
      "(1, 1, 3) 283.8257310204891\n",
      "(1, 1, 4) 285.0486788691227\n",
      "(1, 2, 0) 308.49521028125037\n",
      "(1, 2, 1) 284.5430349832075\n",
      "(1, 2, 3) 281.72487268925033\n",
      "(2, 0, 0) 284.2012638898945\n",
      "(2, 0, 1) 285.206675742629\n",
      "(2, 0, 2) 284.9782876762008\n",
      "(2, 0, 3) 286.5108815745833\n",
      "(2, 0, 4) 288.5569678792887\n",
      "(2, 1, 0) 277.8788800040581\n",
      "(2, 1, 1) 279.24516330420926\n",
      "(2, 1, 2) 281.6155458223218\n",
      "(2, 1, 3) 282.56345467466446\n",
      "(2, 2, 0) 297.1199535239739\n",
      "(2, 2, 1) 279.5810925696204\n",
      "(2, 2, 2) 281.14405179169444\n",
      "(2, 2, 3) 282.89613220690137\n",
      "(3, 0, 0) 282.12198275248056\n",
      "(3, 0, 1) 284.02929345026655\n",
      "(3, 0, 2) 285.128859281549\n",
      "(3, 0, 3) 287.9707838823795\n",
      "(3, 0, 4) 290.07814237757395\n",
      "(3, 1, 0) 279.1458043464475\n",
      "(3, 1, 1) 281.88128603032254\n",
      "(3, 1, 2) 283.0537420209545\n",
      "(3, 1, 3) 284.9910876477076\n",
      "(3, 2, 0) 289.54736555777737\n",
      "(3, 2, 1) 281.0338149764658\n",
      "(3, 2, 2) 283.58216826861826\n",
      "(3, 2, 3) 285.14518172317764\n",
      "(4, 0, 0) 283.9647673533509\n",
      "(4, 0, 1) 286.1235772069617\n",
      "(4, 0, 2) 287.8819324446531\n",
      "(4, 0, 3) 288.85943087611156\n",
      "(4, 0, 4) 291.64697185351054\n",
      "(4, 1, 0) 281.1073663031302\n",
      "(4, 1, 1) 282.6954781455907\n",
      "(4, 1, 2) 281.93326302007307\n",
      "(4, 1, 3) 283.91976880838473\n",
      "(4, 1, 4) 287.4638968579335\n",
      "(4, 2, 0) 288.0496243042811\n",
      "(4, 2, 1) 282.9487367846273\n",
      "(4, 2, 3) 283.78239341478985\n"
     ]
    }
   ],
   "source": [
    "###### Option 1: Finding the best value for ARIMA\n",
    "\n",
    "import itertools\n",
    "p=d=q=range(0,5)\n",
    "pdq = list(itertools.product(p,d,q))\n",
    "\n",
    "for param in pdq:\n",
    "    try:\n",
    "        model_arima = ARIMA(user_2520_train,order=param)\n",
    "        model_arima_fit = model_arima.fit()\n",
    "        print(param,model_arima_fit.aic)\n",
    "    except:\n",
    "        continue\n",
    "    \n",
    "#The Akaike information criterion (AIC) is an estimator of in-sample prediction error and thereby relative quality of\n",
    "#statistical models for a given set of data\n",
    "\n",
    "#It's like the mean squared error in Regression - The smaller the number, the better"
   ]
  },
  {
   "cell_type": "code",
   "execution_count": 40,
   "metadata": {},
   "outputs": [],
   "source": [
    "#Option2 get value of pqd from autocorrelation\n",
    "from pandas.plotting import autocorrelation_plot\n"
   ]
  },
  {
   "cell_type": "code",
   "execution_count": 41,
   "metadata": {},
   "outputs": [],
   "source": [
    "df1_pqd=df1_2520.drop(columns=['user_id'],axis=1)"
   ]
  },
  {
   "cell_type": "code",
   "execution_count": 42,
   "metadata": {},
   "outputs": [],
   "source": [
    "df1_pqd=df1_pqd.set_index('report_date')"
   ]
  },
  {
   "cell_type": "code",
   "execution_count": 43,
   "metadata": {},
   "outputs": [
    {
     "data": {
      "text/html": [
       "<div>\n",
       "<style scoped>\n",
       "    .dataframe tbody tr th:only-of-type {\n",
       "        vertical-align: middle;\n",
       "    }\n",
       "\n",
       "    .dataframe tbody tr th {\n",
       "        vertical-align: top;\n",
       "    }\n",
       "\n",
       "    .dataframe thead th {\n",
       "        text-align: right;\n",
       "    }\n",
       "</style>\n",
       "<table border=\"1\" class=\"dataframe\">\n",
       "  <thead>\n",
       "    <tr style=\"text-align: right;\">\n",
       "      <th></th>\n",
       "      <th>score</th>\n",
       "    </tr>\n",
       "    <tr>\n",
       "      <th>report_date</th>\n",
       "      <th></th>\n",
       "    </tr>\n",
       "  </thead>\n",
       "  <tbody>\n",
       "    <tr>\n",
       "      <th>2005-08-05</th>\n",
       "      <td>36</td>\n",
       "    </tr>\n",
       "    <tr>\n",
       "      <th>2002-01-04</th>\n",
       "      <td>44</td>\n",
       "    </tr>\n",
       "    <tr>\n",
       "      <th>2006-12-08</th>\n",
       "      <td>28</td>\n",
       "    </tr>\n",
       "    <tr>\n",
       "      <th>2006-08-04</th>\n",
       "      <td>29</td>\n",
       "    </tr>\n",
       "    <tr>\n",
       "      <th>2007-04-13</th>\n",
       "      <td>29</td>\n",
       "    </tr>\n",
       "  </tbody>\n",
       "</table>\n",
       "</div>"
      ],
      "text/plain": [
       "             score\n",
       "report_date       \n",
       "2005-08-05      36\n",
       "2002-01-04      44\n",
       "2006-12-08      28\n",
       "2006-08-04      29\n",
       "2007-04-13      29"
      ]
     },
     "execution_count": 43,
     "metadata": {},
     "output_type": "execute_result"
    }
   ],
   "source": [
    "df1_pqd.head()"
   ]
  },
  {
   "cell_type": "code",
   "execution_count": 44,
   "metadata": {},
   "outputs": [
    {
     "data": {
      "image/png": "[encoded data removed]",
      "text/plain": [
       "<Figure size 576x432 with 1 Axes>"
      ]
     },
     "metadata": {},
     "output_type": "display_data"
    }
   ],
   "source": [
    "autocorrelation_plot(df1_pqd)\n",
    "plt.grid()\n",
    "plt.show()\n",
    "# p value can be 4 or 5"
   ]
  },
  {
   "cell_type": "code",
   "execution_count": 45,
   "metadata": {},
   "outputs": [],
   "source": [
    "from statsmodels.graphics.tsaplots import plot_pacf"
   ]
  },
  {
   "cell_type": "code",
   "execution_count": 46,
   "metadata": {},
   "outputs": [
    {
     "data": {
      "image/png": "[encoded data removed]",
      "text/plain": [
       "<Figure size 576x432 with 1 Axes>"
      ]
     },
     "execution_count": 46,
     "metadata": {},
     "output_type": "execute_result"
    },
    {
     "data": {
      "image/png": "[encoded data removed]",
      "text/plain": [
       "<Figure size 576x432 with 1 Axes>"
      ]
     },
     "metadata": {},
     "output_type": "display_data"
    }
   ],
   "source": [
    "plot_pacf(df1_pqd,lags=20)\n",
    "#q value is 2\n",
    "#d value can be 1 or 2"
   ]
  },
  {
   "cell_type": "markdown",
   "metadata": {},
   "source": [
    "### Future predictions\n",
    "- Starting from the end date of the data points, 15 dates (next 4 years) and hence the index is created\n",
    "- The ARIMA model is implemented but with tunned in hyperparameter to predict the future score values"
   ]
  },
  {
   "cell_type": "code",
   "execution_count": 47,
   "metadata": {},
   "outputs": [],
   "source": [
    "# filtering the train data\n",
    "user_2520_t= X_train[X_train['user_id'] == 2520]\n",
    "user_2520_t2 = user_2520_t[['report_date', 'score']]\n",
    "\n",
    "#filtering the valid data\n",
    "user_2520_v = X_valid[X_valid['user_id'] == 2520]\n",
    "user_2520_v2= user_2520_v[['report_date', 'score']]"
   ]
  },
  {
   "cell_type": "code",
   "execution_count": 48,
   "metadata": {},
   "outputs": [],
   "source": [
    "# set the date into index\n",
    "user_2520_t2.set_index('report_date', inplace=True)\n",
    "user_2520_v2.set_index('report_date', inplace=True)"
   ]
  },
  {
   "cell_type": "code",
   "execution_count": 49,
   "metadata": {},
   "outputs": [],
   "source": [
    " # all data\n",
    "all_data = df1_2520[df1_2520['user_id']==2520]\n",
    "all_data2 = all_data[['report_date', 'score']]\n",
    "all_data2.set_index('report_date', inplace=True)"
   ]
  },
  {
   "cell_type": "code",
   "execution_count": 50,
   "metadata": {},
   "outputs": [],
   "source": [
    "   # Setting the Future - Index for 15 days\n",
    "f_index_ = pd.date_range(start='2017-07-31', end= '2021-06-30', periods = 15) \n",
    "  "
   ]
  },
  {
   "cell_type": "code",
   "execution_count": 51,
   "metadata": {},
   "outputs": [
    {
     "data": {
      "text/plain": [
       "DatetimeIndex([          '2017-07-31 00:00:00',\n",
       "               '2017-11-10 03:25:42.857142857',\n",
       "               '2018-02-20 06:51:25.714285714',\n",
       "               '2018-06-02 10:17:08.571428572',\n",
       "               '2018-09-12 13:42:51.428571428',\n",
       "               '2018-12-23 17:08:34.285714288',\n",
       "               '2019-04-04 20:34:17.142857144',\n",
       "                         '2019-07-16 00:00:00',\n",
       "               '2019-10-26 03:25:42.857142856',\n",
       "               '2020-02-05 06:51:25.714285712',\n",
       "               '2020-05-17 10:17:08.571428576',\n",
       "               '2020-08-27 13:42:51.428571424',\n",
       "               '2020-12-07 17:08:34.285714288',\n",
       "               '2021-03-19 20:34:17.142857136',\n",
       "                         '2021-06-30 00:00:00'],\n",
       "              dtype='datetime64[ns]', freq=None)"
      ]
     },
     "execution_count": 51,
     "metadata": {},
     "output_type": "execute_result"
    }
   ],
   "source": [
    "f_index_"
   ]
  },
  {
   "cell_type": "code",
   "execution_count": 52,
   "metadata": {},
   "outputs": [],
   "source": [
    "# Running ARIMA with random numbers\n",
    "model_arima = ARIMA(all_data2, order=(3,1,2)) # start 2-0-0 and move to the best\n",
    "model_arima_fit = model_arima.fit(disp=-1)\n",
    "\n",
    "# Saving ARIMA predictions\n",
    "f_fcast1 = model_arima_fit.forecast(15)[0]\n",
    "\n",
    "# Passing the same index as the others\n",
    "f_fcast1 = pd.Series(f_fcast1, index=f_index_)\n",
    "f_fcast1 = f_fcast1.rename(\"Future - Arima\") "
   ]
  },
  {
   "cell_type": "code",
   "execution_count": 53,
   "metadata": {},
   "outputs": [
    {
     "data": {
      "text/plain": [
       "<AxesSubplot:title={'center':'User-1'}, xlabel='report_date', ylabel='score'>"
      ]
     },
     "execution_count": 53,
     "metadata": {},
     "output_type": "execute_result"
    },
    {
     "data": {
      "image/png": "[encoded data removed]",
      "text/plain": [
       "<Figure size 1080x360 with 1 Axes>"
      ]
     },
     "metadata": {},
     "output_type": "display_data"
    }
   ],
   "source": [
    "# Ploting the predictions\n",
    "fig, ax = plt.subplots(figsize=(15,5))\n",
    "chart = sns.lineplot(x='report_date', y='score', data = user_2520_t)\n",
    "chart.set_title('User-1')\n",
    "fcast1.plot(ax=ax, color='red', marker=\"o\", legend=True)\n",
    "f_fcast1.plot(ax=ax, color='green', marker=\"v\", legend=True)\n",
    "user_2520_valid.plot(ax=ax, color='blue', marker=\"o\", legend=True)"
   ]
  },
  {
   "cell_type": "markdown",
   "metadata": {},
   "source": [
    "### Conclusions\n",
    "- The validation data points has a MSE of 1.8 so the difference in the real values and the predicted value is ~2\n",
    "- The future prediction of the scores looks consistant\n",
    "- The model options should be analysed \n",
    "- The model should be tested for all users and get a trend of progressive speed of the individual user which we get from the slop of the curve\n",
    "\n"
   ]
  },
  {
   "cell_type": "markdown",
   "metadata": {},
   "source": [
    "### Future work \n",
    "- The user_id can be grouped by the age, sex\n",
    "- Implement the trend of progressive speed of the individual user in the model \n",
    "- Creat a more generic code where all the users can be included\n",
    "- The data points can be interpolated or extrapolated to be consistant with other user (need more insights on this)\n"
   ]
  },
  {
   "cell_type": "code",
   "execution_count": null,
   "metadata": {},
   "outputs": [],
   "source": []
  }
 ],
 "metadata": {
  "kernelspec": {
   "display_name": "Python 3",
   "language": "python",
   "name": "python3"
  },
  "language_info": {
   "codemirror_mode": {
    "name": "ipython",
    "version": 3
   },
   "file_extension": ".py",
   "mimetype": "text/x-python",
   "name": "python",
   "nbconvert_exporter": "python",
   "pygments_lexer": "ipython3",
   "version": "3.8.8"
  }
 },
 "nbformat": 4,
 "nbformat_minor": 4
}
